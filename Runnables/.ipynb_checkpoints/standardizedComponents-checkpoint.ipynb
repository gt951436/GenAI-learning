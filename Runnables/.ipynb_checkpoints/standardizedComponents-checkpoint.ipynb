{
 "cells": [
  {
   "cell_type": "code",
   "execution_count": 39,
   "id": "4f6bf18a-78cd-4e27-b172-dbd6d493e80c",
   "metadata": {},
   "outputs": [],
   "source": [
    "%load_ext autoreload\n",
    "%autoreload 2"
   ]
  },
  {
   "cell_type": "code",
   "execution_count": null,
   "id": "83b8a014-5d67-42ac-ab95-395491f8903d",
   "metadata": {},
   "outputs": [],
   "source": [
    "from abc import ABC, abstractmethod"
   ]
  },
  {
   "cell_type": "code",
   "execution_count": 40,
   "id": "e9ec14a7-dc2d-42fd-b03c-18578a161c9c",
   "metadata": {},
   "outputs": [],
   "source": [
    "class Runnable(ABC):\n",
    "\n",
    "    @abstractmethod\n",
    "    def invoke(input_data):\n",
    "        pass"
   ]
  },
  {
   "cell_type": "code",
   "execution_count": 41,
   "id": "5341b030-90bc-4f2b-ab5c-27d6c5a25973",
   "metadata": {},
   "outputs": [],
   "source": [
    "import random\n",
    "\n",
    "# multiple components ko connect karr rahe hain\n",
    "class NakliLLM(Runnable):\n",
    "\n",
    "    def __init__(self):\n",
    "        print('LLM created!')\n",
    "\n",
    "    def invoke(self,prompt):\n",
    "        response_list=[\n",
    "            \"Delhi is capital of india\",\n",
    "            \"IPL is cricket league\",\n",
    "            \"AI stands for Artificial Intelligence\"\n",
    "        ]\n",
    "        return {\"response\": random.choice(response_list)}\n",
    "        \n",
    "    def predict(self,prompt):\n",
    "        response_list=[\n",
    "            \"Delhi is capital of india\",\n",
    "            \"IPL is cricket league\",\n",
    "            \"AI stands for Artificial Intelligence\"\n",
    "        ]\n",
    "        return {\"response\": random.choice(response_list),\"Warning\":\"predict() method is deprecated,use invoke() instead\"}"
   ]
  },
  {
   "cell_type": "code",
   "execution_count": 42,
   "id": "e14862fa-c076-4eaa-9b8e-a1adfdc02ef7",
   "metadata": {},
   "outputs": [
    {
     "name": "stdout",
     "output_type": "stream",
     "text": [
      "LLM created!\n"
     ]
    }
   ],
   "source": [
    "llm = NakliLLM()"
   ]
  },
  {
   "cell_type": "code",
   "execution_count": 43,
   "id": "c3bca219-78b3-46d6-a144-4ed9c341402d",
   "metadata": {},
   "outputs": [],
   "source": [
    "class NakliPromptTemplate(Runnable):\n",
    "\n",
    "    def __init__(self,template,input_variables):\n",
    "        self.template = template\n",
    "        self.input_variables = input_variables\n",
    "\n",
    "    def invoke(self,input_dict):\n",
    "        return self.template.format(**input_dict)\n",
    "\n",
    "    def format(self,input_dict):\n",
    "        return [self.template.format(**input_dict),\n",
    "               \"Warning: format() method is deprecated,use invoke() instead\"]\n",
    "    "
   ]
  },
  {
   "cell_type": "code",
   "execution_count": 44,
   "id": "1491e54a-f594-4897-b701-933cecefd3d8",
   "metadata": {},
   "outputs": [],
   "source": [
    "template = NakliPromptTemplate(\n",
    "    template = 'write a {length} lines poem about {topic}',\n",
    "    input_variables = ['length','topic']\n",
    ")"
   ]
  },
  {
   "cell_type": "code",
   "execution_count": 45,
   "id": "abd3e9aa-fc6d-4336-936f-28e7438f49eb",
   "metadata": {},
   "outputs": [],
   "source": [
    "class NakliStrOutputParser(Runnable):\n",
    "    def __init__(self):\n",
    "        pass\n",
    "\n",
    "    def invoke(self,input_data):\n",
    "        return input_data['response']"
   ]
  },
  {
   "cell_type": "code",
   "execution_count": 46,
   "id": "3a804ae5-f345-433e-8ed8-62ea2cf53f2c",
   "metadata": {},
   "outputs": [],
   "source": [
    "parser = NakliStrOutputParser()"
   ]
  },
  {
   "cell_type": "code",
   "execution_count": 47,
   "id": "0b7dd248-34b2-4671-80d0-8ed7895eb6f5",
   "metadata": {},
   "outputs": [],
   "source": [
    "# forming chains from standardized components\n",
    "class RunnableConnector(Runnable):\n",
    "    def __init__(self,runnable_list):\n",
    "        self.runnable_list = runnable_list\n",
    "\n",
    "    def invoke(self,input_data):\n",
    "        for runnable in self.runnable_list:\n",
    "            # input in runnable--> output--> input for next runnable\n",
    "            input_data = runnable.invoke(input_data)\n",
    "\n",
    "        return input_data"
   ]
  },
  {
   "cell_type": "code",
   "execution_count": 48,
   "id": "19066d95-45d9-48fa-b6af-0a3825289c6d",
   "metadata": {},
   "outputs": [],
   "source": [
    "chain = RunnableConnector([template,llm,parser])"
   ]
  },
  {
   "cell_type": "code",
   "execution_count": 49,
   "id": "6f1dfe5f-1ef8-4b6d-9e28-6e8ce1ab7490",
   "metadata": {},
   "outputs": [
    {
     "data": {
      "text/plain": [
       "'IPL is cricket league'"
      ]
     },
     "execution_count": 49,
     "metadata": {},
     "output_type": "execute_result"
    }
   ],
   "source": [
    "chain.invoke({'length':5,'topic':'Football'})"
   ]
  }
 ],
 "metadata": {
  "kernelspec": {
   "display_name": "Python 3 (ipykernel)",
   "language": "python",
   "name": "python3"
  },
  "language_info": {
   "codemirror_mode": {
    "name": "ipython",
    "version": 3
   },
   "file_extension": ".py",
   "mimetype": "text/x-python",
   "name": "python",
   "nbconvert_exporter": "python",
   "pygments_lexer": "ipython3",
   "version": "3.13.3"
  }
 },
 "nbformat": 4,
 "nbformat_minor": 5
}

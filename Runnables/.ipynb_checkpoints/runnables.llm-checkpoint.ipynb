{
 "cells": [
  {
   "cell_type": "code",
   "execution_count": 1,
   "id": "1efaf22c-2a45-4e57-b8e3-91142a3f0232",
   "metadata": {},
   "outputs": [],
   "source": [
    "%load_ext autoreload\n",
    "%autoreload 2"
   ]
  },
  {
   "cell_type": "code",
   "execution_count": 9,
   "id": "50e25a71-f3ff-4bb8-a535-cba43892c928",
   "metadata": {},
   "outputs": [],
   "source": [
    "import random\n",
    "\n",
    "class NakliLLM:\n",
    "\n",
    "    def __init__(self):\n",
    "        print('LLM created!')\n",
    "\n",
    "    def predict(self,prompt):\n",
    "        response_list=[\n",
    "            \"Delhi is capital of india\",\n",
    "            \"IPL is cricket league\",\n",
    "            \"AI stands for Artificial Intelligence\"\n",
    "        ]\n",
    "        return {\"response\": random.choice(response_list)}"
   ]
  },
  {
   "cell_type": "code",
   "execution_count": 13,
   "id": "6cde4f0c-0eb9-4f4e-836c-d3b7f1021f44",
   "metadata": {},
   "outputs": [],
   "source": [
    "class NakliPromptTemplate:\n",
    "\n",
    "    def __init__(self,template,input_variables):\n",
    "        self.template = template\n",
    "        self.input_variables = input_variables\n",
    "\n",
    "    def Format(self,input_dict):\n",
    "        return self.template.format(**input_dict)\n",
    "    "
   ]
  },
  {
   "cell_type": "code",
   "execution_count": null,
   "id": "c047deba-9813-4d8d-ae06-24cdb9dd2fc8",
   "metadata": {},
   "outputs": [],
   "source": []
  }
 ],
 "metadata": {
  "kernelspec": {
   "display_name": "Python 3 (ipykernel)",
   "language": "python",
   "name": "python3"
  },
  "language_info": {
   "codemirror_mode": {
    "name": "ipython",
    "version": 3
   },
   "file_extension": ".py",
   "mimetype": "text/x-python",
   "name": "python",
   "nbconvert_exporter": "python",
   "pygments_lexer": "ipython3",
   "version": "3.13.3"
  }
 },
 "nbformat": 4,
 "nbformat_minor": 5
}

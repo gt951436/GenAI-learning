{
 "cells": [
  {
   "cell_type": "code",
   "execution_count": 1,
   "id": "1efaf22c-2a45-4e57-b8e3-91142a3f0232",
   "metadata": {},
   "outputs": [],
   "source": [
    "%load_ext autoreload\n",
    "%autoreload 2"
   ]
  },
  {
   "cell_type": "code",
   "execution_count": 26,
   "id": "50e25a71-f3ff-4bb8-a535-cba43892c928",
   "metadata": {},
   "outputs": [],
   "source": [
    "import random\n",
    "\n",
    "# multiple components ko connect karr rahe hain\n",
    "class NakliLLM:\n",
    "\n",
    "    def __init__(self):\n",
    "        print('LLM created!')\n",
    "\n",
    "    def predict(self,prompt):\n",
    "        response_list=[\n",
    "            \"Delhi is capital of india\",\n",
    "            \"IPL is cricket league\",\n",
    "            \"AI stands for Artificial Intelligence\"\n",
    "        ]\n",
    "        return {\"response\": random.choice(response_list)}"
   ]
  },
  {
   "cell_type": "code",
   "execution_count": 32,
   "id": "6cde4f0c-0eb9-4f4e-836c-d3b7f1021f44",
   "metadata": {},
   "outputs": [],
   "source": [
    "class NakliPromptTemplate:\n",
    "\n",
    "    def __init__(self,template,input_variables):\n",
    "        self.template = template\n",
    "        self.input_variables = input_variables\n",
    "\n",
    "    def format(self,input_dict):\n",
    "        return self.template.format(**input_dict)\n",
    "    "
   ]
  },
  {
   "cell_type": "code",
   "execution_count": 33,
   "id": "c047deba-9813-4d8d-ae06-24cdb9dd2fc8",
   "metadata": {},
   "outputs": [],
   "source": [
    "template = NakliPromptTemplate(\n",
    "    template = 'write a {length} lines poem about {topic}',\n",
    "    input_variables = ['length','topic']\n",
    ")"
   ]
  },
  {
   "cell_type": "code",
   "execution_count": 34,
   "id": "f1b97f1c-5080-42b5-b314-268aa6ccf471",
   "metadata": {},
   "outputs": [],
   "source": [
    "prompt = template.format({'length':5,'topic':'india'})"
   ]
  },
  {
   "cell_type": "code",
   "execution_count": 35,
   "id": "ffd7eca9-98c1-4fb0-8ca8-56c229eebc97",
   "metadata": {},
   "outputs": [
    {
     "name": "stdout",
     "output_type": "stream",
     "text": [
      "LLM created!\n"
     ]
    }
   ],
   "source": [
    "llm = NakliLLM()"
   ]
  },
  {
   "cell_type": "code",
   "execution_count": 36,
   "id": "61e3a34f-29a8-40a0-8fdf-1384acbb9c5d",
   "metadata": {},
   "outputs": [
    {
     "data": {
      "text/plain": [
       "{'response': 'IPL is cricket league'}"
      ]
     },
     "execution_count": 36,
     "metadata": {},
     "output_type": "execute_result"
    }
   ],
   "source": [
    "llm.predict(prompt)"
   ]
  },
  {
   "cell_type": "code",
   "execution_count": 41,
   "id": "1189c2e2-247a-424b-b202-a66f5d8bd542",
   "metadata": {},
   "outputs": [],
   "source": [
    "class NakliLLMChain:\n",
    "    def __init__(self,llm,prompt):\n",
    "        self.llm = llm\n",
    "        self.prompt = prompt \n",
    "\n",
    "    def run(self,input_dict):\n",
    "        final_prompt = self.prompt.format(input_dict)\n",
    "        result = self.llm.predict(final_prompt)\n",
    "\n",
    "        return result['response']"
   ]
  },
  {
   "cell_type": "code",
   "execution_count": 42,
   "id": "f89db68b-2812-4b8c-8d1a-7faee8cbaa90",
   "metadata": {},
   "outputs": [],
   "source": [
    "template = NakliPromptTemplate(\n",
    "    template = 'write a {length} lines poem about {topic}',\n",
    "    input_variables = ['length','topic']\n",
    ")"
   ]
  },
  {
   "cell_type": "code",
   "execution_count": 43,
   "id": "855808b6-58d6-4418-a04e-473f845a04d8",
   "metadata": {},
   "outputs": [
    {
     "name": "stdout",
     "output_type": "stream",
     "text": [
      "LLM created!\n"
     ]
    }
   ],
   "source": [
    "llm = NakliLLM()"
   ]
  },
  {
   "cell_type": "code",
   "execution_count": 44,
   "id": "21a496e6-db34-49de-ac69-a0de3594db0d",
   "metadata": {},
   "outputs": [],
   "source": [
    "chain = NakliLLMChain(llm,template)"
   ]
  },
  {
   "cell_type": "code",
   "execution_count": 45,
   "id": "7bd0e829-ed7c-47c2-8637-d8bb04bfae2e",
   "metadata": {},
   "outputs": [
    {
     "data": {
      "text/plain": [
       "'IPL is cricket league'"
      ]
     },
     "execution_count": 45,
     "metadata": {},
     "output_type": "execute_result"
    }
   ],
   "source": [
    "chain.run({'length':4,'topic':'India'})"
   ]
  },
  {
   "cell_type": "code",
   "execution_count": null,
   "id": "a6f8719d-12eb-4ab1-97a9-efa8b1297cb4",
   "metadata": {},
   "outputs": [],
   "source": []
  }
 ],
 "metadata": {
  "kernelspec": {
   "display_name": "Python 3 (ipykernel)",
   "language": "python",
   "name": "python3"
  },
  "language_info": {
   "codemirror_mode": {
    "name": "ipython",
    "version": 3
   },
   "file_extension": ".py",
   "mimetype": "text/x-python",
   "name": "python",
   "nbconvert_exporter": "python",
   "pygments_lexer": "ipython3",
   "version": "3.13.3"
  }
 },
 "nbformat": 4,
 "nbformat_minor": 5
}
